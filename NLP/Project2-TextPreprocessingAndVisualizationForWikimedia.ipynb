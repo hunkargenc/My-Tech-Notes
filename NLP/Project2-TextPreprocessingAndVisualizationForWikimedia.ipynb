{
 "cells": [
  {
   "cell_type": "markdown",
   "id": "51f594a7-c70c-415d-871f-398e627181dd",
   "metadata": {},
   "source": [
    "# Text Preprocessing And Visualization For Wikimedia"
   ]
  },
  {
   "cell_type": "code",
   "execution_count": 1,
   "id": "83eaf88c-b468-46cd-bc61-17a264e976c6",
   "metadata": {
    "collapsed": true,
    "jupyter": {
     "outputs_hidden": true
    },
    "tags": []
   },
   "outputs": [
    {
     "name": "stderr",
     "output_type": "stream",
     "text": [
      "[nltk_data] Downloading package stopwords to\n",
      "[nltk_data]     /Users/hunkargencyildiz/nltk_data...\n",
      "[nltk_data]   Package stopwords is already up-to-date!\n",
      "[nltk_data] Downloading package punkt to\n",
      "[nltk_data]     /Users/hunkargencyildiz/nltk_data...\n",
      "[nltk_data]   Package punkt is already up-to-date!\n",
      "[nltk_data] Downloading package wordnet to\n",
      "[nltk_data]     /Users/hunkargencyildiz/nltk_data...\n",
      "[nltk_data]   Package wordnet is already up-to-date!\n",
      "[nltk_data] Downloading package vader_lexicon to\n",
      "[nltk_data]     /Users/hunkargencyildiz/nltk_data...\n",
      "[nltk_data]   Package vader_lexicon is already up-to-date!\n"
     ]
    },
    {
     "data": {
      "text/plain": [
       "True"
      ]
     },
     "execution_count": 1,
     "metadata": {},
     "output_type": "execute_result"
    }
   ],
   "source": [
    "import string\n",
    "import pandas as pd\n",
    "\n",
    "import matplotlib.pyplot as plt\n",
    "\n",
    "import nltk\n",
    "from nltk.corpus import stopwords\n",
    "from textblob import Word, TextBlob\n",
    "from wordcloud import WordCloud\n",
    "\n",
    "from warnings import filterwarnings\n",
    "filterwarnings('ignore')\n",
    "pd.set_option('display.max_columns', None)\n",
    "pd.set_option('display.width', 200)\n",
    "pd.set_option('display.float_format', lambda x: '%.2f' % x)\n",
    "\n",
    "nltk.download('stopwords')\n",
    "nltk.download(\"punkt\")\n",
    "nltk.download('wordnet')\n",
    "nltk.download('vader_lexicon')"
   ]
  },
  {
   "cell_type": "code",
   "execution_count": 4,
   "id": "c9c9c2c0-bef9-435f-ad42-cbb58715be5b",
   "metadata": {
    "tags": []
   },
   "outputs": [],
   "source": [
    "wiki_data = pd.read_csv(\"./datasets/wiki_data.csv\", index_col=0)"
   ]
  },
  {
   "cell_type": "code",
   "execution_count": 5,
   "id": "052f9d18-d0ff-4a50-8ef6-585cb06bca62",
   "metadata": {
    "tags": []
   },
   "outputs": [
    {
     "data": {
      "text/html": [
       "<div>\n",
       "<style scoped>\n",
       "    .dataframe tbody tr th:only-of-type {\n",
       "        vertical-align: middle;\n",
       "    }\n",
       "\n",
       "    .dataframe tbody tr th {\n",
       "        vertical-align: top;\n",
       "    }\n",
       "\n",
       "    .dataframe thead th {\n",
       "        text-align: right;\n",
       "    }\n",
       "</style>\n",
       "<table border=\"1\" class=\"dataframe\">\n",
       "  <thead>\n",
       "    <tr style=\"text-align: right;\">\n",
       "      <th></th>\n",
       "      <th>text</th>\n",
       "    </tr>\n",
       "  </thead>\n",
       "  <tbody>\n",
       "    <tr>\n",
       "      <th>1</th>\n",
       "      <td>Anovo\\n\\nAnovo (formerly A Novo) is a computer...</td>\n",
       "    </tr>\n",
       "    <tr>\n",
       "      <th>2</th>\n",
       "      <td>Battery indicator\\n\\nA battery indicator (also...</td>\n",
       "    </tr>\n",
       "    <tr>\n",
       "      <th>3</th>\n",
       "      <td>Bob Pease\\n\\nRobert Allen Pease (August 22, 19...</td>\n",
       "    </tr>\n",
       "    <tr>\n",
       "      <th>4</th>\n",
       "      <td>CAVNET\\n\\nCAVNET was a secure military forum w...</td>\n",
       "    </tr>\n",
       "    <tr>\n",
       "      <th>5</th>\n",
       "      <td>CLidar\\n\\nThe CLidar is a scientific instrumen...</td>\n",
       "    </tr>\n",
       "  </tbody>\n",
       "</table>\n",
       "</div>"
      ],
      "text/plain": [
       "                                                text\n",
       "1  Anovo\\n\\nAnovo (formerly A Novo) is a computer...\n",
       "2  Battery indicator\\n\\nA battery indicator (also...\n",
       "3  Bob Pease\\n\\nRobert Allen Pease (August 22, 19...\n",
       "4  CAVNET\\n\\nCAVNET was a secure military forum w...\n",
       "5  CLidar\\n\\nThe CLidar is a scientific instrumen..."
      ]
     },
     "execution_count": 5,
     "metadata": {},
     "output_type": "execute_result"
    }
   ],
   "source": [
    "wiki_data.head()"
   ]
  },
  {
   "cell_type": "markdown",
   "id": "0aae1da3-db21-425c-866c-09c58a2351f3",
   "metadata": {},
   "source": [
    "## Text Preprocessing"
   ]
  },
  {
   "cell_type": "code",
   "execution_count": 31,
   "id": "f6d9ea40-c012-4ee6-9bcb-d45625ee5ca2",
   "metadata": {
    "tags": []
   },
   "outputs": [],
   "source": [
    "class TextPreprocessing:\n",
    "    def __init__(self, dataframe):\n",
    "        self.df = dataframe\n",
    "        self.df_columns = dataframe.columns\n",
    "    def case_conversion(self):\n",
    "        for col in self.df.columns:\n",
    "            if str(self.df[col].dtype) == 'object':\n",
    "                self.df[col] = self.df[col].str.lower()\n",
    "                \n",
    "        return self.df"
   ]
  },
  {
   "cell_type": "code",
   "execution_count": 32,
   "id": "b3f43449-fb47-4855-b9c6-8b5ef10be58b",
   "metadata": {
    "tags": []
   },
   "outputs": [],
   "source": [
    "tp = TextPreprocessing(wiki_data)"
   ]
  },
  {
   "cell_type": "code",
   "execution_count": 33,
   "id": "504e7e23-3ecb-4a76-8148-f673aa8c4cfc",
   "metadata": {
    "tags": []
   },
   "outputs": [],
   "source": [
    "clean_data = tp.case_conversion()"
   ]
  },
  {
   "cell_type": "code",
   "execution_count": 34,
   "id": "b41d2fdf-235e-4c48-97e9-7ac47362dfdb",
   "metadata": {
    "tags": []
   },
   "outputs": [
    {
     "data": {
      "text/html": [
       "<div>\n",
       "<style scoped>\n",
       "    .dataframe tbody tr th:only-of-type {\n",
       "        vertical-align: middle;\n",
       "    }\n",
       "\n",
       "    .dataframe tbody tr th {\n",
       "        vertical-align: top;\n",
       "    }\n",
       "\n",
       "    .dataframe thead th {\n",
       "        text-align: right;\n",
       "    }\n",
       "</style>\n",
       "<table border=\"1\" class=\"dataframe\">\n",
       "  <thead>\n",
       "    <tr style=\"text-align: right;\">\n",
       "      <th></th>\n",
       "      <th>text</th>\n",
       "    </tr>\n",
       "  </thead>\n",
       "  <tbody>\n",
       "    <tr>\n",
       "      <th>1</th>\n",
       "      <td>anovo\\n\\nanovo (formerly a novo) is a computer...</td>\n",
       "    </tr>\n",
       "    <tr>\n",
       "      <th>2</th>\n",
       "      <td>battery indicator\\n\\na battery indicator (also...</td>\n",
       "    </tr>\n",
       "    <tr>\n",
       "      <th>3</th>\n",
       "      <td>bob pease\\n\\nrobert allen pease (august 22, 19...</td>\n",
       "    </tr>\n",
       "    <tr>\n",
       "      <th>4</th>\n",
       "      <td>cavnet\\n\\ncavnet was a secure military forum w...</td>\n",
       "    </tr>\n",
       "    <tr>\n",
       "      <th>5</th>\n",
       "      <td>clidar\\n\\nthe clidar is a scientific instrumen...</td>\n",
       "    </tr>\n",
       "  </tbody>\n",
       "</table>\n",
       "</div>"
      ],
      "text/plain": [
       "                                                text\n",
       "1  anovo\\n\\nanovo (formerly a novo) is a computer...\n",
       "2  battery indicator\\n\\na battery indicator (also...\n",
       "3  bob pease\\n\\nrobert allen pease (august 22, 19...\n",
       "4  cavnet\\n\\ncavnet was a secure military forum w...\n",
       "5  clidar\\n\\nthe clidar is a scientific instrumen..."
      ]
     },
     "execution_count": 34,
     "metadata": {},
     "output_type": "execute_result"
    }
   ],
   "source": [
    "clean_data.head()"
   ]
  },
  {
   "cell_type": "code",
   "execution_count": null,
   "id": "7ecfffbd-d595-4f61-89c4-fa97b74b863e",
   "metadata": {},
   "outputs": [],
   "source": []
  }
 ],
 "metadata": {
  "kernelspec": {
   "display_name": "Python 3 (ipykernel)",
   "language": "python",
   "name": "python3"
  },
  "language_info": {
   "codemirror_mode": {
    "name": "ipython",
    "version": 3
   },
   "file_extension": ".py",
   "mimetype": "text/x-python",
   "name": "python",
   "nbconvert_exporter": "python",
   "pygments_lexer": "ipython3",
   "version": "3.11.5"
  }
 },
 "nbformat": 4,
 "nbformat_minor": 5
}
