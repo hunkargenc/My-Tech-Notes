{
 "cells": [
  {
   "cell_type": "markdown",
   "id": "28b33fb9-c549-4d04-93c1-65a65c94ab5a",
   "metadata": {},
   "source": [
    "# Notes & Garbage Collector"
   ]
  },
  {
   "cell_type": "markdown",
   "id": "f804fef1-3b52-4a53-9da4-8620c7233285",
   "metadata": {
    "tags": []
   },
   "source": [
    "## **What Is Data Engineering?** "
   ]
  },
  {
   "cell_type": "markdown",
   "id": "c5940239-43ee-4a85-8918-ea61a1dfc7dc",
   "metadata": {},
   "source": [
    "Data engineering is a set of operations aimed at creating interfaces and mechanisms for the flow and access of information. It takes dedicated specialists—data engineers— to maintain data so that it remains available and usable by others. In short, data engineers set up and operate the organization’s data infrastructure, preparing it for further analysis by data analysts and scientists.\n",
    "\n",
    "—From “Data Engineering and Its Main Concepts” by AlexSoft\n",
    "\n",
    "The first type of data engineering is SQL-focused. The work and primary storage of the data is in relational databases. All of the data processing is done with SQL or a SQL-based language. Sometimes, this data processing is done with an ETL tool. The second type of data engineering is Big Data–focused. The work and primary storage of the data is in Big Data technologies like Hadoop, Cassandra, and HBase. All of the data processing is done in Big Data frameworks like MapReduce, Spark, and Flink. While SQL is used, the primary processing is done with programming languages like Java, Scala, and Python.\n",
    "\n",
    "—Jesse Anderson\n",
    "\n",
    "In relation to previously existing roles, the data engineering field could be thought of as a superset of business intelligence and data warehousing that brings more elements from software engineering. This discipline also integrates specialization around the operation of so-called “big data” distributed systems, along with concepts around the extended Hadoop ecosystem, stream processing, and in computation at scale.\n",
    "\n",
    "—Maxime Beauchemin\n",
    "\n",
    "Data engineering is all about the movement, manipulation, and management of data.\n",
    "\n",
    "—Lewis Gavin"
   ]
  },
  {
   "cell_type": "markdown",
   "id": "a7522d3a-d8b9-469d-8db8-7d5d14bf0da1",
   "metadata": {},
   "source": [
    "## Data Engineering Lifeycle"
   ]
  },
  {
   "cell_type": "markdown",
   "id": "7afb071b-6267-4249-861d-dce78ac806de",
   "metadata": {},
   "source": [
    "https://miro.medium.com/v2/resize:fit:640/format:webp/1*1t2zah1TG5_FCu0nTwkKtg.png"
   ]
  },
  {
   "cell_type": "markdown",
   "id": "45c66cf2-8143-441f-9896-e30e49f0ab6d",
   "metadata": {},
   "source": []
  },
  {
   "cell_type": "markdown",
   "id": "d76a8aa2-4e4e-4786-8f9a-1dbb9be98990",
   "metadata": {},
   "source": []
  },
  {
   "cell_type": "markdown",
   "id": "9fe335ad-35f3-4667-aade-f0739537708a",
   "metadata": {},
   "source": []
  },
  {
   "cell_type": "markdown",
   "id": "9ba61991-7fa1-4359-b8ce-0cfe71844d9f",
   "metadata": {},
   "source": []
  },
  {
   "cell_type": "markdown",
   "id": "b752200a-6eac-4c4b-8e85-006f059a8516",
   "metadata": {},
   "source": []
  }
 ],
 "metadata": {
  "kernelspec": {
   "display_name": "Python 3 (ipykernel)",
   "language": "python",
   "name": "python3"
  },
  "language_info": {
   "codemirror_mode": {
    "name": "ipython",
    "version": 3
   },
   "file_extension": ".py",
   "mimetype": "text/x-python",
   "name": "python",
   "nbconvert_exporter": "python",
   "pygments_lexer": "ipython3",
   "version": "3.11.5"
  }
 },
 "nbformat": 4,
 "nbformat_minor": 5
}
