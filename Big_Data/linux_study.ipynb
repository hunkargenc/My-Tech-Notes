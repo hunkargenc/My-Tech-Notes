{
 "cells": [
  {
   "cell_type": "markdown",
   "id": "aeda88d6-a6af-46ae-af94-700a44be802b",
   "metadata": {},
   "source": [
    "# Linux"
   ]
  },
  {
   "cell_type": "code",
   "execution_count": 1,
   "id": "cfcfa480-510e-4658-9ede-43ec066b5ef0",
   "metadata": {},
   "outputs": [],
   "source": [
    "# whoami: Oturumu açan kullanıcı\n",
    "# uname -a: Sistem özelliklerini ekrana basan komut\n",
    "# ping -c4 ubuncu.com: ubuntu.com a gönderilen pinglerin sonucu\n",
    "# CTRL + ALT + T: Linux'ta terminal açmanın kısa yolu\n",
    "# oturum_acan_kullanıcı@Makine"
   ]
  },
  {
   "cell_type": "code",
   "execution_count": null,
   "id": "b5915f5d-d356-4b7c-b2e5-d26b67c005a8",
   "metadata": {},
   "outputs": [],
   "source": [
    "# date: Tarih ve zamanı basar\n",
    "# ls: Bulunulan klasörün içindeki dosya ve klasörler\n",
    "# ls -a: all parametresiyle gizli olan dosya ve klasörler de görünür.\n",
    "# ls -l: listeli olarak dizindeki gibi dosya ve klasörleri görmemizi sağlar.\n"
   ]
  },
  {
   "cell_type": "code",
   "execution_count": 3,
   "id": "4956f877-b6ce-4083-b38a-20ef4907dec7",
   "metadata": {
    "tags": []
   },
   "outputs": [],
   "source": [
    "# pwd: İçinde bulunduğumuz dizini gösterir.\n",
    "# ls: İçinde bulunduğumuz dizinin içindeki dosya ve klasörler\n",
    "# cd(change directory): gitmek istediğim klasör\n",
    "# cd ..: Bir üst dizine gitmek\n",
    "# man ls: ls'in manual(kılavuz)\n",
    "# man date: date'in manual(kılavuz)"
   ]
  },
  {
   "cell_type": "code",
   "execution_count": 4,
   "id": "9f9c0a8b-a9b3-474a-96de-e493ede1589b",
   "metadata": {
    "tags": []
   },
   "outputs": [],
   "source": [
    "# history: komut satırı geçmişi\n",
    "# history -c: historyi silme"
   ]
  },
  {
   "cell_type": "code",
   "execution_count": null,
   "id": "b93522c2-cde3-43f5-be6e-65ec720b2344",
   "metadata": {},
   "outputs": [],
   "source": [
    "#Linux Dosya Sistemi\n",
    "# Dosyalar (-) regular file\n",
    "# Dizinler (d)\n",
    "# Bağlantılar (l)\n",
    "# Kök dizin (/)\n",
    "# /bin: Temel kullanıcı komutları\n",
    "# /boot: Açılıştaki statik doyalar\n",
    "# /dev: cihaz dosyaları\n",
    "# /etc: Sisteme özel ayarlar\n",
    "# /home: Kullanıcı ana dizinleri\n",
    "# /lib: Temel kütüphaneler ve çekirdek modülleri\n",
    "# /media: Çıkarılabilir ortm\n",
    "# /mnt: Yerleştirilen dosya ortam dosyaları\n",
    "# /src: servis dosyalar\n",
    "# /tmp: geçici dosyaalr\n",
    "# /var: çeşitli dosyalar\n",
    "# /root: roor kullanıcısı için ana dizin"
   ]
  },
  {
   "cell_type": "code",
   "execution_count": null,
   "id": "bf0abb8e-b166-4a43-87d9-dddd4742c607",
   "metadata": {},
   "outputs": [],
   "source": [
    "# Dosya sistemi komutları\n",
    "# Dosya sisteminde gezinme ve listeleme\n",
    "# ls: Listeleme\n",
    "# ls -a: Gizli dosya ve klasörleri de listeleme\n",
    "# cd: bulunduğunuz dosyadan diğer dosyalara geçiş\n",
    "# Renkler farklı uzantılara işaret eder.\n",
    "# ls -l: Garafik arayüz gibi ayrıntılı geldi\n",
    "# clear: Terminal temizleme\n",
    "# Dosya ve dizin oluşturma\n",
    "# mkdir dizin_ismi: (make directory) yeni dizin oluşturma\n",
    "# mkdir dizin_ismi1 dizin_ismi2: (make directory) birden fazla yeni dizin oluşturma\n",
    "# touch dosya_ismi.txt: yeni dosya oluşturma\n",
    "# touch resin1.png dosya_ismi.docx: birden fazla dosya oluşturma\n",
    "# Dosya ve dizin silme\n",
    "# rm dosya_ismi.txt: dosya silme (terminalde silinen dosyalar çöp kutusunda geri dönüştürebilir değildir)\n",
    "# rm dosya_ismi.txt dosya_ismi1.txt: birden fazla dosya silme\n",
    "# rm -r dizin1: dosya silme (recursive bir biçimde)\n",
    "# rm -r dizin1 dizin2: birden fazla dosya silme\n",
    "# Kopyalama ve Taşıma"
   ]
  }
 ],
 "metadata": {
  "kernelspec": {
   "display_name": "Python 3 (ipykernel)",
   "language": "python",
   "name": "python3"
  },
  "language_info": {
   "codemirror_mode": {
    "name": "ipython",
    "version": 3
   },
   "file_extension": ".py",
   "mimetype": "text/x-python",
   "name": "python",
   "nbconvert_exporter": "python",
   "pygments_lexer": "ipython3",
   "version": "3.11.5"
  }
 },
 "nbformat": 4,
 "nbformat_minor": 5
}
