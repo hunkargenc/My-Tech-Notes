{
 "cells": [
  {
   "cell_type": "markdown",
   "id": "15e294d7-9cb9-4f5f-b9a0-4240b1117a30",
   "metadata": {
    "jp-MarkdownHeadingCollapsed": true,
    "tags": []
   },
   "source": [
    "## Installation for MacOS"
   ]
  },
  {
   "cell_type": "markdown",
   "id": "3b065604-a666-40c5-ba56-4fdbdd91e177",
   "metadata": {},
   "source": [
    "- **Step 1:** Install Java SE Development Kit https://www.oracle.com/java/technologies/downloads/#jdk21-mac\n",
    "- **Step 2:** Install Apache Spark to Local https://spark.apache.org/downloads.html (Download, extract and copy it into the spark folder in the user folder (create it if you don't have one))"
   ]
  },
  {
   "cell_type": "markdown",
   "id": "8224578f-4486-4b26-8317-73181207f551",
   "metadata": {
    "jp-MarkdownHeadingCollapsed": true,
    "tags": []
   },
   "source": [
    "## Initialize Spark"
   ]
  },
  {
   "cell_type": "code",
   "execution_count": 183,
   "id": "3ed21eaa-693f-4f9d-bc6b-f7fce4c1d66e",
   "metadata": {
    "tags": []
   },
   "outputs": [],
   "source": [
    "import warnings\n",
    "warnings.filterwarnings(\"ignore\", category=DeprecationWarning)\n",
    "warnings.filterwarnings(\"ignore\", category=FutureWarning)"
   ]
  },
  {
   "cell_type": "code",
   "execution_count": 184,
   "id": "08b3bb5e-e9b2-42c1-bfa1-78805d05eb75",
   "metadata": {
    "tags": []
   },
   "outputs": [
    {
     "name": "stdout",
     "output_type": "stream",
     "text": [
      "Requirement already satisfied: pip in /Users/hunkargencyildiz/anaconda3/lib/python3.11/site-packages (23.3.2)\n",
      "Requirement already satisfied: findspark in /Users/hunkargencyildiz/anaconda3/lib/python3.11/site-packages (2.0.1)\n"
     ]
    }
   ],
   "source": [
    "!pip install --upgrade pip\n",
    "!pip install findspark"
   ]
  },
  {
   "cell_type": "code",
   "execution_count": 185,
   "id": "ba64d2c7-3122-44e5-af75-9f8f25ea0f54",
   "metadata": {
    "tags": []
   },
   "outputs": [],
   "source": [
    "import findspark\n",
    "\n",
    "#Initialize spark file path\n",
    "findspark.init(\"/Users/hunkargencyildiz/spark/spark-3.5.0-bin-hadoop3\")"
   ]
  },
  {
   "cell_type": "code",
   "execution_count": 186,
   "id": "64fe4f3c-8baf-438d-850b-2e3e204ce8ea",
   "metadata": {
    "tags": []
   },
   "outputs": [],
   "source": [
    "from pyspark import SparkContext"
   ]
  },
  {
   "cell_type": "markdown",
   "id": "cf65fc4f-4a8a-4336-a142-77ce568d4150",
   "metadata": {
    "jp-MarkdownHeadingCollapsed": true,
    "tags": []
   },
   "source": [
    "## Run Spark"
   ]
  },
  {
   "cell_type": "code",
   "execution_count": 187,
   "id": "4d16d24c-102f-49d0-8d3c-ccce67b53f6c",
   "metadata": {
    "tags": []
   },
   "outputs": [],
   "source": [
    "import pyspark\n",
    "from pyspark.sql import SparkSession\n",
    "from pyspark.conf import SparkConf"
   ]
  },
  {
   "cell_type": "code",
   "execution_count": 188,
   "id": "19538234-b254-427a-9ff3-ab3e22599608",
   "metadata": {
    "tags": []
   },
   "outputs": [],
   "source": [
    "# Define Spark\n",
    "spark = SparkSession.builder.master(\"local\").appName(\"time_series_forecasting\").getOrCreate()"
   ]
  },
  {
   "cell_type": "code",
   "execution_count": 189,
   "id": "f9851ef4-c973-47a1-8c5e-7137a781d630",
   "metadata": {
    "tags": []
   },
   "outputs": [],
   "source": [
    "sc = spark.sparkContext"
   ]
  },
  {
   "cell_type": "code",
   "execution_count": 190,
   "id": "7fc0bd4f-d8e6-4e1f-852e-a2f60e263c07",
   "metadata": {
    "tags": []
   },
   "outputs": [
    {
     "data": {
      "text/html": [
       "\n",
       "        <div>\n",
       "            <p><b>SparkContext</b></p>\n",
       "\n",
       "            <p><a href=\"http://192.168.1.56:4040\">Spark UI</a></p>\n",
       "\n",
       "            <dl>\n",
       "              <dt>Version</dt>\n",
       "                <dd><code>v3.5.0</code></dd>\n",
       "              <dt>Master</dt>\n",
       "                <dd><code>local</code></dd>\n",
       "              <dt>AppName</dt>\n",
       "                <dd><code>time_series_forecasting</code></dd>\n",
       "            </dl>\n",
       "        </div>\n",
       "        "
      ],
      "text/plain": [
       "<SparkContext master=local appName=time_series_forecasting>"
      ]
     },
     "execution_count": 190,
     "metadata": {},
     "output_type": "execute_result"
    }
   ],
   "source": [
    "sc"
   ]
  },
  {
   "cell_type": "code",
   "execution_count": 191,
   "id": "f97251ff-4d2c-46d2-9070-ce4fd0028a64",
   "metadata": {
    "tags": []
   },
   "outputs": [
    {
     "data": {
      "text/plain": [
       "'3.5.0'"
      ]
     },
     "execution_count": 191,
     "metadata": {},
     "output_type": "execute_result"
    }
   ],
   "source": [
    "sc.version"
   ]
  },
  {
   "cell_type": "code",
   "execution_count": 192,
   "id": "371d7592-2382-4f8c-bcf3-c35fe698d268",
   "metadata": {
    "tags": []
   },
   "outputs": [
    {
     "data": {
      "text/plain": [
       "'time_series_forecasting'"
      ]
     },
     "execution_count": 192,
     "metadata": {},
     "output_type": "execute_result"
    }
   ],
   "source": [
    "sc.appName"
   ]
  },
  {
   "cell_type": "code",
   "execution_count": 193,
   "id": "673364df-74ce-44a6-8f14-06ec76ec9541",
   "metadata": {
    "tags": []
   },
   "outputs": [],
   "source": [
    "# Don't forget\n",
    "# sc.stop()"
   ]
  },
  {
   "cell_type": "markdown",
   "id": "e10abdc2-b863-4126-a1f2-e03eef830de2",
   "metadata": {
    "jp-MarkdownHeadingCollapsed": true,
    "tags": []
   },
   "source": [
    "## Warm-up Tours"
   ]
  },
  {
   "cell_type": "code",
   "execution_count": 194,
   "id": "752b9173-5733-45ed-abec-ddfc7b3f3157",
   "metadata": {
    "tags": []
   },
   "outputs": [],
   "source": [
    "spark_df = spark.read.csv(\"./datasets/churn.csv\", header = True, inferSchema = True)"
   ]
  },
  {
   "cell_type": "code",
   "execution_count": 195,
   "id": "e660f199-68f3-4440-83cd-93add67b52f4",
   "metadata": {
    "tags": []
   },
   "outputs": [
    {
     "name": "stdout",
     "output_type": "stream",
     "text": [
      "root\n",
      " |-- _c0: integer (nullable = true)\n",
      " |-- Names: string (nullable = true)\n",
      " |-- Age: double (nullable = true)\n",
      " |-- Total_Purchase: double (nullable = true)\n",
      " |-- Account_Manager: integer (nullable = true)\n",
      " |-- Years: double (nullable = true)\n",
      " |-- Num_Sites: double (nullable = true)\n",
      " |-- Churn: integer (nullable = true)\n",
      "\n"
     ]
    }
   ],
   "source": [
    "spark_df.printSchema()"
   ]
  },
  {
   "cell_type": "code",
   "execution_count": 196,
   "id": "bd410b07-8594-4c47-97d5-8152799975e8",
   "metadata": {
    "tags": []
   },
   "outputs": [
    {
     "data": {
      "text/plain": [
       "pyspark.sql.dataframe.DataFrame"
      ]
     },
     "execution_count": 196,
     "metadata": {},
     "output_type": "execute_result"
    }
   ],
   "source": [
    "# Type of Spark\n",
    "type(spark_df)"
   ]
  },
  {
   "cell_type": "code",
   "execution_count": 197,
   "id": "ce762475-a2c2-4ca1-baf3-9f71771fd942",
   "metadata": {
    "tags": []
   },
   "outputs": [
    {
     "name": "stderr",
     "output_type": "stream",
     "text": [
      "23/12/25 18:40:19 WARN CacheManager: Asked to cache already cached data.\n"
     ]
    },
    {
     "data": {
      "text/plain": [
       "DataFrame[_c0: int, Names: string, Age: double, Total_Purchase: double, Account_Manager: int, Years: double, Num_Sites: double, Churn: int]"
      ]
     },
     "execution_count": 197,
     "metadata": {},
     "output_type": "execute_result"
    }
   ],
   "source": [
    "# Cache df\n",
    "spark_df.cache()"
   ]
  },
  {
   "cell_type": "markdown",
   "id": "da8cbcaa-1306-41e4-919e-ff2de7d19190",
   "metadata": {
    "jp-MarkdownHeadingCollapsed": true,
    "tags": []
   },
   "source": [
    "## Comparison pandas vs spark"
   ]
  },
  {
   "cell_type": "code",
   "execution_count": 198,
   "id": "e59c4737-1cae-4a0f-9014-b04703f6c734",
   "metadata": {
    "tags": []
   },
   "outputs": [],
   "source": [
    "import seaborn as sns\n",
    "df = sns.load_dataset(\"titanic\")"
   ]
  },
  {
   "cell_type": "code",
   "execution_count": 199,
   "id": "72933b0e-17ce-4497-b5cb-e47873bae41e",
   "metadata": {
    "tags": []
   },
   "outputs": [
    {
     "name": "stdout",
     "output_type": "stream",
     "text": [
      "Spark Dataframe Type: <class 'pyspark.sql.dataframe.DataFrame'>\n",
      "Pandas Dataframe Type: <class 'pandas.core.frame.DataFrame'>\n"
     ]
    }
   ],
   "source": [
    "print(\"Spark Dataframe Type:\", type(spark_df))\n",
    "print(\"Pandas Dataframe Type:\", type(df))"
   ]
  },
  {
   "cell_type": "code",
   "execution_count": 200,
   "id": "c39879ca-010d-4d7e-87c9-289a7652bbbd",
   "metadata": {
    "tags": []
   },
   "outputs": [
    {
     "name": "stdout",
     "output_type": "stream",
     "text": [
      "Spark Dataframe Head: Row(_c0=0, Names='Cameron Williams', Age=42.0, Total_Purchase=11066.8, Account_Manager=0, Years=7.22, Num_Sites=8.0, Churn=1)\n",
      "Pandas Dataframe Head:    survived  pclass     sex   age  ...  deck  embark_town  alive  alone\n",
      "0         0       3    male  22.0  ...   NaN  Southampton     no  False\n",
      "1         1       1  female  38.0  ...     C    Cherbourg    yes  False\n",
      "2         1       3  female  26.0  ...   NaN  Southampton    yes   True\n",
      "3         1       1  female  35.0  ...     C  Southampton    yes  False\n",
      "4         0       3    male  35.0  ...   NaN  Southampton     no   True\n",
      "\n",
      "[5 rows x 15 columns]\n"
     ]
    }
   ],
   "source": [
    "print(\"Spark Dataframe Head:\", spark_df.head())\n",
    "print(\"Pandas Dataframe Head:\", df.head())"
   ]
  },
  {
   "cell_type": "markdown",
   "id": "17ff040e-c884-4c67-a061-9c825069ee6a",
   "metadata": {
    "tags": []
   },
   "source": [
    "print(\"Spark Dataframe Dtypes:\", spark_df.dtypes) \n",
    "print(\"Pandas Dataframe Dtypes:\", df.dtypes)"
   ]
  },
  {
   "cell_type": "code",
   "execution_count": 201,
   "id": "f2301cf7-bf04-490b-bdb3-68a6a8a54380",
   "metadata": {
    "tags": []
   },
   "outputs": [
    {
     "name": "stdout",
     "output_type": "stream",
     "text": [
      "Pandas Dataframe Ndim: 2\n"
     ]
    }
   ],
   "source": [
    "# print(\"Spark Dataframe Ndim:\", spark_df.ndim) # Give error\n",
    "print(\"Pandas Dataframe Ndim:\", df.ndim)"
   ]
  },
  {
   "cell_type": "markdown",
   "id": "4641b368-a123-4413-9f7a-863edee5dc15",
   "metadata": {
    "jp-MarkdownHeadingCollapsed": true,
    "tags": []
   },
   "source": [
    "## PySpark Functions"
   ]
  },
  {
   "cell_type": "code",
   "execution_count": 202,
   "id": "5deef5eb-da37-459d-8be5-8256566bf3d6",
   "metadata": {
    "tags": []
   },
   "outputs": [
    {
     "data": {
      "text/plain": [
       "Row(_c0=0, Names='Cameron Williams', Age=42.0, Total_Purchase=11066.8, Account_Manager=0, Years=7.22, Num_Sites=8.0, Churn=1)"
      ]
     },
     "execution_count": 202,
     "metadata": {},
     "output_type": "execute_result"
    }
   ],
   "source": [
    "spark_df.head()"
   ]
  },
  {
   "cell_type": "code",
   "execution_count": 203,
   "id": "9ae8504c-642d-47ab-875e-aa1e53170514",
   "metadata": {
    "tags": []
   },
   "outputs": [
    {
     "name": "stdout",
     "output_type": "stream",
     "text": [
      "+---+-------------------+----+--------------+---------------+-----+---------+-----+\n",
      "|_c0|              Names| Age|Total_Purchase|Account_Manager|Years|Num_Sites|Churn|\n",
      "+---+-------------------+----+--------------+---------------+-----+---------+-----+\n",
      "|  0|   Cameron Williams|42.0|       11066.8|              0| 7.22|      8.0|    1|\n",
      "|  1|      Kevin Mueller|41.0|      11916.22|              0|  6.5|     11.0|    1|\n",
      "|  2|        Eric Lozano|38.0|      12884.75|              0| 6.67|     12.0|    1|\n",
      "|  3|      Phillip White|42.0|       8010.76|              0| 6.71|     10.0|    1|\n",
      "|  4|     Cynthia Norton|37.0|       9191.58|              0| 5.56|      9.0|    1|\n",
      "|  5|   Jessica Williams|48.0|      10356.02|              0| 5.12|      8.0|    1|\n",
      "|  6|        Eric Butler|44.0|      11331.58|              1| 5.23|     11.0|    1|\n",
      "|  7|      Zachary Walsh|32.0|       9885.12|              1| 6.92|      9.0|    1|\n",
      "|  8|        Ashlee Carr|43.0|       14062.6|              1| 5.46|     11.0|    1|\n",
      "|  9|     Jennifer Lynch|40.0|       8066.94|              1| 7.11|     11.0|    1|\n",
      "| 10|       Paula Harris|30.0|      11575.37|              1| 5.22|      8.0|    1|\n",
      "| 11|     Bruce Phillips|45.0|       8771.02|              1| 6.64|     11.0|    1|\n",
      "| 12|       Craig Garner|45.0|       8988.67|              1| 4.84|     11.0|    1|\n",
      "| 13|       Nicole Olson|40.0|       8283.32|              1|  5.1|     13.0|    1|\n",
      "| 14|     Harold Griffin|41.0|       6569.87|              1|  4.3|     11.0|    1|\n",
      "| 15|       James Wright|38.0|      10494.82|              1| 6.81|     12.0|    1|\n",
      "| 16|      Doris Wilkins|45.0|       8213.41|              1| 7.35|     11.0|    1|\n",
      "| 17|Katherine Carpenter|43.0|      11226.88|              0| 8.08|     12.0|    1|\n",
      "| 18|     Lindsay Martin|53.0|       5515.09|              0| 6.85|      8.0|    1|\n",
      "| 19|        Kathy Curry|46.0|        8046.4|              1| 5.69|      8.0|    1|\n",
      "+---+-------------------+----+--------------+---------------+-----+---------+-----+\n",
      "only showing top 20 rows\n",
      "\n",
      "+---+----------------+----+--------------+---------------+-----+---------+-----+\n",
      "|_c0|           Names| Age|Total_Purchase|Account_Manager|Years|Num_Sites|Churn|\n",
      "+---+----------------+----+--------------+---------------+-----+---------+-----+\n",
      "|  0|Cameron Williams|42.0|       11066.8|              0| 7.22|      8.0|    1|\n",
      "|  1|   Kevin Mueller|41.0|      11916.22|              0|  6.5|     11.0|    1|\n",
      "|  2|     Eric Lozano|38.0|      12884.75|              0| 6.67|     12.0|    1|\n",
      "|  3|   Phillip White|42.0|       8010.76|              0| 6.71|     10.0|    1|\n",
      "|  4|  Cynthia Norton|37.0|       9191.58|              0| 5.56|      9.0|    1|\n",
      "+---+----------------+----+--------------+---------------+-----+---------+-----+\n",
      "only showing top 5 rows\n",
      "\n"
     ]
    }
   ],
   "source": [
    "# Pandas Head = Spark Show\n",
    "spark_df.show()\n",
    "spark_df.show(5, truncate=True)"
   ]
  },
  {
   "cell_type": "code",
   "execution_count": 204,
   "id": "17294a99-9592-43be-ba4b-425d80198f57",
   "metadata": {
    "tags": []
   },
   "outputs": [
    {
     "data": {
      "text/plain": [
       "900"
      ]
     },
     "execution_count": 204,
     "metadata": {},
     "output_type": "execute_result"
    }
   ],
   "source": [
    "# Row Count\n",
    "spark_df.count()"
   ]
  },
  {
   "cell_type": "code",
   "execution_count": 205,
   "id": "7809f4df-bde3-444b-9f1d-86e6e739fe88",
   "metadata": {
    "tags": []
   },
   "outputs": [
    {
     "data": {
      "text/plain": [
       "['_c0',\n",
       " 'Names',\n",
       " 'Age',\n",
       " 'Total_Purchase',\n",
       " 'Account_Manager',\n",
       " 'Years',\n",
       " 'Num_Sites',\n",
       " 'Churn']"
      ]
     },
     "execution_count": 205,
     "metadata": {},
     "output_type": "execute_result"
    }
   ],
   "source": [
    "# Cols\n",
    "spark_df.columns"
   ]
  },
  {
   "cell_type": "code",
   "execution_count": 206,
   "id": "69aae584-f33f-4ca6-a51b-c55b52e2e061",
   "metadata": {
    "tags": []
   },
   "outputs": [
    {
     "name": "stdout",
     "output_type": "stream",
     "text": [
      "+-------+------------------+-------------+-----------------+-----------------+------------------+-----------------+------------------+-------------------+\n",
      "|summary|               _c0|        Names|              Age|   Total_Purchase|   Account_Manager|            Years|         Num_Sites|              Churn|\n",
      "+-------+------------------+-------------+-----------------+-----------------+------------------+-----------------+------------------+-------------------+\n",
      "|  count|               900|          900|              900|              900|               900|              900|               900|                900|\n",
      "|   mean|             449.5|         NULL|41.81666666666667|10062.82403333334|0.4811111111111111| 5.27315555555555| 8.587777777777777|0.16666666666666666|\n",
      "| stddev|259.95191863111916|         NULL|6.127560416916251|2408.644531858096|0.4999208935073339|1.274449013194616|1.7648355920350969| 0.3728852122772358|\n",
      "|    min|                 0|   Aaron King|             22.0|            100.0|                 0|              1.0|               3.0|                  0|\n",
      "|    max|               899|Zachary Walsh|             65.0|         18026.01|                 1|             9.15|              14.0|                  1|\n",
      "+-------+------------------+-------------+-----------------+-----------------+------------------+-----------------+------------------+-------------------+\n",
      "\n"
     ]
    }
   ],
   "source": [
    "# Describe statistics\n",
    "spark_df.describe().show()"
   ]
  },
  {
   "cell_type": "code",
   "execution_count": 207,
   "id": "7fde56f2-08b8-417d-aef4-c590c1f52090",
   "metadata": {
    "tags": []
   },
   "outputs": [
    {
     "name": "stdout",
     "output_type": "stream",
     "text": [
      "+-------+-----------------+\n",
      "|summary|              Age|\n",
      "+-------+-----------------+\n",
      "|  count|              900|\n",
      "|   mean|41.81666666666667|\n",
      "| stddev|6.127560416916251|\n",
      "|    min|             22.0|\n",
      "|    max|             65.0|\n",
      "+-------+-----------------+\n",
      "\n"
     ]
    }
   ],
   "source": [
    "# Select a col\n",
    "spark_df.describe(\"Age\").show()"
   ]
  },
  {
   "cell_type": "code",
   "execution_count": 208,
   "id": "08f394ec-e1b1-4154-8ca4-f5a6850630ab",
   "metadata": {
    "tags": []
   },
   "outputs": [
    {
     "name": "stdout",
     "output_type": "stream",
     "text": [
      "+----+-------------------+\n",
      "| Age|              Names|\n",
      "+----+-------------------+\n",
      "|42.0|   Cameron Williams|\n",
      "|41.0|      Kevin Mueller|\n",
      "|38.0|        Eric Lozano|\n",
      "|42.0|      Phillip White|\n",
      "|37.0|     Cynthia Norton|\n",
      "|48.0|   Jessica Williams|\n",
      "|44.0|        Eric Butler|\n",
      "|32.0|      Zachary Walsh|\n",
      "|43.0|        Ashlee Carr|\n",
      "|40.0|     Jennifer Lynch|\n",
      "|30.0|       Paula Harris|\n",
      "|45.0|     Bruce Phillips|\n",
      "|45.0|       Craig Garner|\n",
      "|40.0|       Nicole Olson|\n",
      "|41.0|     Harold Griffin|\n",
      "|38.0|       James Wright|\n",
      "|45.0|      Doris Wilkins|\n",
      "|43.0|Katherine Carpenter|\n",
      "|53.0|     Lindsay Martin|\n",
      "|46.0|        Kathy Curry|\n",
      "+----+-------------------+\n",
      "only showing top 20 rows\n",
      "\n"
     ]
    }
   ],
   "source": [
    "# Select cols\n",
    "spark_df.select(\"Age\", \"Names\").show()"
   ]
  },
  {
   "cell_type": "code",
   "execution_count": 209,
   "id": "93a9c820-f46f-4294-89fb-01a5e83e1c6e",
   "metadata": {
    "tags": []
   },
   "outputs": [
    {
     "data": {
      "text/plain": [
       "524"
      ]
     },
     "execution_count": 209,
     "metadata": {},
     "output_type": "execute_result"
    }
   ],
   "source": [
    "# Filtering\n",
    "spark_df.filter(spark_df.Age > 40).count()"
   ]
  },
  {
   "cell_type": "code",
   "execution_count": 210,
   "id": "363c648a-bacb-437b-be1a-c38f3df06534",
   "metadata": {
    "tags": []
   },
   "outputs": [
    {
     "name": "stdout",
     "output_type": "stream",
     "text": [
      "+-----+-----+\n",
      "|Churn|count|\n",
      "+-----+-----+\n",
      "|    1|  150|\n",
      "|    0|  750|\n",
      "+-----+-----+\n",
      "\n"
     ]
    }
   ],
   "source": [
    "# Group By\n",
    "spark_df.groupby(\"Churn\").count().show()"
   ]
  },
  {
   "cell_type": "code",
   "execution_count": 211,
   "id": "a580fde8-cb51-47f9-b842-e86e4d829bae",
   "metadata": {
    "tags": []
   },
   "outputs": [
    {
     "name": "stdout",
     "output_type": "stream",
     "text": [
      "+-----+-----------------+\n",
      "|Churn|         avg(Age)|\n",
      "+-----+-----------------+\n",
      "|    1|42.99333333333333|\n",
      "|    0|41.58133333333333|\n",
      "+-----+-----------------+\n",
      "\n"
     ]
    }
   ],
   "source": [
    "# Aggregations\n",
    "spark_df.groupby(\"Churn\").agg({\"Age\": \"mean\"}).show()"
   ]
  },
  {
   "cell_type": "markdown",
   "id": "b8e088e1-fd08-40ee-a417-81ac35d1d746",
   "metadata": {
    "jp-MarkdownHeadingCollapsed": true,
    "tags": []
   },
   "source": [
    "## SQL Processes"
   ]
  },
  {
   "cell_type": "code",
   "execution_count": 212,
   "id": "04435482-1ae6-4731-ab4e-36d6abaf6d43",
   "metadata": {
    "tags": []
   },
   "outputs": [],
   "source": [
    "spark_df.registerTempTable(\"tbl_df\") # Temporary Table"
   ]
  },
  {
   "cell_type": "code",
   "execution_count": 213,
   "id": "2cb2de53-6ee0-4c32-b3a0-a809af489989",
   "metadata": {
    "tags": []
   },
   "outputs": [
    {
     "name": "stdout",
     "output_type": "stream",
     "text": [
      "+---------+\n",
      "|namespace|\n",
      "+---------+\n",
      "|  default|\n",
      "+---------+\n",
      "\n"
     ]
    }
   ],
   "source": [
    "spark.sql(\"show databases\").show()"
   ]
  },
  {
   "cell_type": "code",
   "execution_count": 214,
   "id": "f0301020-ae70-4ad7-8e2c-971b6151fad5",
   "metadata": {
    "tags": []
   },
   "outputs": [
    {
     "name": "stdout",
     "output_type": "stream",
     "text": [
      "+---------+---------+-----------+\n",
      "|namespace|tableName|isTemporary|\n",
      "+---------+---------+-----------+\n",
      "|         |   tbl_df|       true|\n",
      "+---------+---------+-----------+\n",
      "\n"
     ]
    }
   ],
   "source": [
    "spark.sql(\"show tables\").show()"
   ]
  },
  {
   "cell_type": "code",
   "execution_count": 215,
   "id": "05e2326d-922a-4875-acef-e3a29fb0eb5f",
   "metadata": {
    "tags": []
   },
   "outputs": [
    {
     "name": "stdout",
     "output_type": "stream",
     "text": [
      "+---+----------------+----+--------------+---------------+-----+---------+-----+\n",
      "|_c0|           Names| Age|Total_Purchase|Account_Manager|Years|Num_Sites|Churn|\n",
      "+---+----------------+----+--------------+---------------+-----+---------+-----+\n",
      "|  0|Cameron Williams|42.0|       11066.8|              0| 7.22|      8.0|    1|\n",
      "|  1|   Kevin Mueller|41.0|      11916.22|              0|  6.5|     11.0|    1|\n",
      "|  2|     Eric Lozano|38.0|      12884.75|              0| 6.67|     12.0|    1|\n",
      "|  3|   Phillip White|42.0|       8010.76|              0| 6.71|     10.0|    1|\n",
      "|  4|  Cynthia Norton|37.0|       9191.58|              0| 5.56|      9.0|    1|\n",
      "+---+----------------+----+--------------+---------------+-----+---------+-----+\n",
      "only showing top 5 rows\n",
      "\n"
     ]
    }
   ],
   "source": [
    "spark.sql(\"select * from tbl_df\").show(5)"
   ]
  },
  {
   "cell_type": "code",
   "execution_count": 216,
   "id": "5a2a0950-ecd7-471c-8d06-d028137a708d",
   "metadata": {
    "tags": []
   },
   "outputs": [
    {
     "name": "stdout",
     "output_type": "stream",
     "text": [
      "+-----+-----------------+\n",
      "|Churn|        mean(Age)|\n",
      "+-----+-----------------+\n",
      "|    1|42.99333333333333|\n",
      "|    0|41.58133333333333|\n",
      "+-----+-----------------+\n",
      "\n"
     ]
    }
   ],
   "source": [
    "spark.sql(\"select Churn, mean(Age) from tbl_df group by Churn\").show()"
   ]
  },
  {
   "cell_type": "markdown",
   "id": "426f9fb2-ceaf-4c99-a304-c1281dc571dc",
   "metadata": {
    "jp-MarkdownHeadingCollapsed": true,
    "tags": []
   },
   "source": [
    "## Visualization"
   ]
  },
  {
   "cell_type": "code",
   "execution_count": 217,
   "id": "4546c797-8d0c-415c-a4f5-894210ad7706",
   "metadata": {
    "tags": []
   },
   "outputs": [],
   "source": [
    "import matplotlib.pyplot as plt\n",
    "import seaborn as sns"
   ]
  },
  {
   "cell_type": "code",
   "execution_count": 218,
   "id": "ffc67dd6-5ea5-4b60-ad4c-abd9418cefed",
   "metadata": {},
   "outputs": [
    {
     "ename": "ValueError",
     "evalue": "Could not interpret input 'Churn'",
     "output_type": "error",
     "traceback": [
      "\u001b[0;31m---------------------------------------------------------------------------\u001b[0m",
      "\u001b[0;31mValueError\u001b[0m                                Traceback (most recent call last)",
      "Cell \u001b[0;32mIn[218], line 1\u001b[0m\n\u001b[0;32m----> 1\u001b[0m sns\u001b[38;5;241m.\u001b[39mbarplot(x\u001b[38;5;241m=\u001b[39m\u001b[38;5;124m\"\u001b[39m\u001b[38;5;124mChurn\u001b[39m\u001b[38;5;124m\"\u001b[39m)\n",
      "File \u001b[0;32m~/anaconda3/lib/python3.11/site-packages/seaborn/categorical.py:2755\u001b[0m, in \u001b[0;36mbarplot\u001b[0;34m(data, x, y, hue, order, hue_order, estimator, errorbar, n_boot, units, seed, orient, color, palette, saturation, width, errcolor, errwidth, capsize, dodge, ci, ax, **kwargs)\u001b[0m\n\u001b[1;32m   2752\u001b[0m \u001b[38;5;28;01mif\u001b[39;00m estimator \u001b[38;5;129;01mis\u001b[39;00m \u001b[38;5;28mlen\u001b[39m:\n\u001b[1;32m   2753\u001b[0m     estimator \u001b[38;5;241m=\u001b[39m \u001b[38;5;124m\"\u001b[39m\u001b[38;5;124msize\u001b[39m\u001b[38;5;124m\"\u001b[39m\n\u001b[0;32m-> 2755\u001b[0m plotter \u001b[38;5;241m=\u001b[39m _BarPlotter(x, y, hue, data, order, hue_order,\n\u001b[1;32m   2756\u001b[0m                       estimator, errorbar, n_boot, units, seed,\n\u001b[1;32m   2757\u001b[0m                       orient, color, palette, saturation,\n\u001b[1;32m   2758\u001b[0m                       width, errcolor, errwidth, capsize, dodge)\n\u001b[1;32m   2760\u001b[0m \u001b[38;5;28;01mif\u001b[39;00m ax \u001b[38;5;129;01mis\u001b[39;00m \u001b[38;5;28;01mNone\u001b[39;00m:\n\u001b[1;32m   2761\u001b[0m     ax \u001b[38;5;241m=\u001b[39m plt\u001b[38;5;241m.\u001b[39mgca()\n",
      "File \u001b[0;32m~/anaconda3/lib/python3.11/site-packages/seaborn/categorical.py:1530\u001b[0m, in \u001b[0;36m_BarPlotter.__init__\u001b[0;34m(self, x, y, hue, data, order, hue_order, estimator, errorbar, n_boot, units, seed, orient, color, palette, saturation, width, errcolor, errwidth, capsize, dodge)\u001b[0m\n\u001b[1;32m   1525\u001b[0m \u001b[38;5;28;01mdef\u001b[39;00m \u001b[38;5;21m__init__\u001b[39m(\u001b[38;5;28mself\u001b[39m, x, y, hue, data, order, hue_order,\n\u001b[1;32m   1526\u001b[0m              estimator, errorbar, n_boot, units, seed,\n\u001b[1;32m   1527\u001b[0m              orient, color, palette, saturation, width,\n\u001b[1;32m   1528\u001b[0m              errcolor, errwidth, capsize, dodge):\n\u001b[1;32m   1529\u001b[0m \u001b[38;5;250m    \u001b[39m\u001b[38;5;124;03m\"\"\"Initialize the plotter.\"\"\"\u001b[39;00m\n\u001b[0;32m-> 1530\u001b[0m     \u001b[38;5;28mself\u001b[39m\u001b[38;5;241m.\u001b[39mestablish_variables(x, y, hue, data, orient,\n\u001b[1;32m   1531\u001b[0m                              order, hue_order, units)\n\u001b[1;32m   1532\u001b[0m     \u001b[38;5;28mself\u001b[39m\u001b[38;5;241m.\u001b[39mestablish_colors(color, palette, saturation)\n\u001b[1;32m   1533\u001b[0m     \u001b[38;5;28mself\u001b[39m\u001b[38;5;241m.\u001b[39mestimate_statistic(estimator, errorbar, n_boot, seed)\n",
      "File \u001b[0;32m~/anaconda3/lib/python3.11/site-packages/seaborn/categorical.py:541\u001b[0m, in \u001b[0;36m_CategoricalPlotter.establish_variables\u001b[0;34m(self, x, y, hue, data, orient, order, hue_order, units)\u001b[0m\n\u001b[1;32m    539\u001b[0m     \u001b[38;5;28;01mif\u001b[39;00m \u001b[38;5;28misinstance\u001b[39m(var, \u001b[38;5;28mstr\u001b[39m):\n\u001b[1;32m    540\u001b[0m         err \u001b[38;5;241m=\u001b[39m \u001b[38;5;124mf\u001b[39m\u001b[38;5;124m\"\u001b[39m\u001b[38;5;124mCould not interpret input \u001b[39m\u001b[38;5;124m'\u001b[39m\u001b[38;5;132;01m{\u001b[39;00mvar\u001b[38;5;132;01m}\u001b[39;00m\u001b[38;5;124m'\u001b[39m\u001b[38;5;124m\"\u001b[39m\n\u001b[0;32m--> 541\u001b[0m         \u001b[38;5;28;01mraise\u001b[39;00m \u001b[38;5;167;01mValueError\u001b[39;00m(err)\n\u001b[1;32m    543\u001b[0m \u001b[38;5;66;03m# Figure out the plotting orientation\u001b[39;00m\n\u001b[1;32m    544\u001b[0m orient \u001b[38;5;241m=\u001b[39m infer_orient(\n\u001b[1;32m    545\u001b[0m     x, y, orient, require_numeric\u001b[38;5;241m=\u001b[39m\u001b[38;5;28mself\u001b[39m\u001b[38;5;241m.\u001b[39mrequire_numeric\n\u001b[1;32m    546\u001b[0m )\n",
      "\u001b[0;31mValueError\u001b[0m: Could not interpret input 'Churn'"
     ]
    }
   ],
   "source": [
    "sns.barplot(x=\"Churn\")"
   ]
  },
  {
   "cell_type": "code",
   "execution_count": null,
   "id": "a947c9b7-1ad8-4802-aceb-9557f889a166",
   "metadata": {
    "tags": []
   },
   "outputs": [],
   "source": [
    "# Transform to pandas\n",
    "p_df = spark_df.toPandas()"
   ]
  },
  {
   "cell_type": "code",
   "execution_count": null,
   "id": "4eb18b7e-36aa-480c-97ea-3dd29ebc02b4",
   "metadata": {
    "tags": []
   },
   "outputs": [],
   "source": [
    "p_df.head()"
   ]
  },
  {
   "cell_type": "code",
   "execution_count": null,
   "id": "061ef6d4-444b-44bd-acb2-f94b44fd596f",
   "metadata": {
    "tags": []
   },
   "outputs": [],
   "source": [
    "sns.barplot(x=\"Churn\", y=p_df.Churn.index, data=p_df);"
   ]
  },
  {
   "cell_type": "code",
   "execution_count": null,
   "id": "e16a7d33-7246-42a5-902d-311411c117f4",
   "metadata": {
    "tags": []
   },
   "outputs": [],
   "source": [
    "reducing_df = spark_df.groupby(\"Churn\").count().toPandas()"
   ]
  },
  {
   "cell_type": "code",
   "execution_count": null,
   "id": "8f7cf0f6-e2f4-46e0-ad78-7b5a60a60742",
   "metadata": {
    "tags": []
   },
   "outputs": [],
   "source": [
    "reducing_df.head()"
   ]
  },
  {
   "cell_type": "code",
   "execution_count": null,
   "id": "a03db2c3-4cfd-4295-a775-6e759d6f18dc",
   "metadata": {
    "tags": []
   },
   "outputs": [],
   "source": [
    "type(reducing_df)"
   ]
  },
  {
   "cell_type": "markdown",
   "id": "c5f60b13-8fef-4840-a99a-c8d256266ab0",
   "metadata": {
    "tags": []
   },
   "source": [
    "## Machine Learning Application Example"
   ]
  },
  {
   "cell_type": "code",
   "execution_count": null,
   "id": "3fc09021-91c0-4a08-b6bf-b8a28fd922bc",
   "metadata": {
    "tags": []
   },
   "outputs": [],
   "source": [
    "spark_df = spark.read.csv(\"./datasets/churn.csv\", header = True, inferSchema = True)<"
   ]
  },
  {
   "cell_type": "code",
   "execution_count": null,
   "id": "694b034d-377f-46d2-a115-b60da285ed66",
   "metadata": {
    "tags": []
   },
   "outputs": [],
   "source": [
    "spark_df.show(10)"
   ]
  },
  {
   "cell_type": "code",
   "execution_count": null,
   "id": "7cb45e86-aa3e-4e0b-aaef-5c63fc73031a",
   "metadata": {
    "tags": []
   },
   "outputs": [],
   "source": [
    "# Transform Col Names\n",
    "spark_df = spark_df.toDF(*[col.lower() for col in spark_df.columns])"
   ]
  },
  {
   "cell_type": "code",
   "execution_count": null,
   "id": "875cbfd7-e029-4e51-946b-414e016d6932",
   "metadata": {
    "tags": []
   },
   "outputs": [],
   "source": [
    "spark_df.show(5)"
   ]
  },
  {
   "cell_type": "code",
   "execution_count": null,
   "id": "e99d584c-d991-47a7-ac99-88139570c433",
   "metadata": {
    "tags": []
   },
   "outputs": [],
   "source": [
    "# Rename Col Names\n",
    "spark_df = spark_df.withColumnRenamed(\"_c0\", \"index\")"
   ]
  },
  {
   "cell_type": "code",
   "execution_count": null,
   "id": "72898b79-0102-42ab-a47a-21d57686e47c",
   "metadata": {
    "tags": []
   },
   "outputs": [],
   "source": [
    "spark_df.show(5)"
   ]
  },
  {
   "cell_type": "code",
   "execution_count": null,
   "id": "be73f97f-1eaf-409d-bbd8-99894bb5b875",
   "metadata": {
    "tags": []
   },
   "outputs": [],
   "source": [
    "# Total observations\n",
    "spark_df.count()"
   ]
  },
  {
   "cell_type": "code",
   "execution_count": null,
   "id": "0bde01ea-ebd3-4e01-9d4c-b3cc9b196db1",
   "metadata": {
    "tags": []
   },
   "outputs": [],
   "source": [
    "# Cols Length\n",
    "len(spark_df.columns)"
   ]
  },
  {
   "cell_type": "code",
   "execution_count": null,
   "id": "9f690a00-5ae6-4025-a1be-677b5c11020d",
   "metadata": {
    "tags": []
   },
   "outputs": [],
   "source": [
    "# Col names\n",
    "spark_df.columns"
   ]
  },
  {
   "cell_type": "code",
   "execution_count": null,
   "id": "3d0e66b9-6812-4fce-94bf-1651ca77a089",
   "metadata": {
    "tags": []
   },
   "outputs": [],
   "source": [
    "# Describes statistics\n",
    "spark_df.describe().show()"
   ]
  },
  {
   "cell_type": "code",
   "execution_count": null,
   "id": "8838b542-a265-473f-bcf0-c6bb2334f52f",
   "metadata": {
    "tags": []
   },
   "outputs": [],
   "source": [
    "# Select a variable\n",
    "spark_df.select(\"age\",\"total_purchase\",\"account_manager\",\"years\",\"num_sites\",\"churn\").describe().toPandas().transpose()"
   ]
  },
  {
   "cell_type": "code",
   "execution_count": null,
   "id": "78e074c2-171c-4e5d-a207-bed21b4e6673",
   "metadata": {
    "tags": []
   },
   "outputs": [],
   "source": [
    "# Drop missing values\n",
    "spark_df = spark_df.dropna()"
   ]
  },
  {
   "cell_type": "code",
   "execution_count": null,
   "id": "0cca6740-1191-4be6-b5e0-4f938b3904be",
   "metadata": {
    "tags": []
   },
   "outputs": [],
   "source": [
    "# Add new feature\n",
    "spark_df = spark_df.withColumn(\"age_squared\", spark_df.age**2)"
   ]
  },
  {
   "cell_type": "code",
   "execution_count": null,
   "id": "920d179d-4961-4d2c-be8d-5d118e7db1ea",
   "metadata": {
    "tags": []
   },
   "outputs": [],
   "source": [
    "spark_df.show(2)"
   ]
  },
  {
   "cell_type": "code",
   "execution_count": null,
   "id": "e067d52d-d73a-45d8-9bae-bab5850c5aeb",
   "metadata": {
    "tags": []
   },
   "outputs": [],
   "source": [
    "# Define dependent variable\n",
    "from pyspark.ml.feature import StringIndexer"
   ]
  },
  {
   "cell_type": "code",
   "execution_count": null,
   "id": "88e63031-1b59-4a0b-9d6a-b561ccd56ded",
   "metadata": {
    "tags": []
   },
   "outputs": [],
   "source": [
    "stringIndexer = StringIndexer(inputCol=\"churn\", outputCol=\"label\")"
   ]
  },
  {
   "cell_type": "code",
   "execution_count": null,
   "id": "ff7c30cf-6c46-4587-89fb-4f6d88def386",
   "metadata": {
    "tags": []
   },
   "outputs": [],
   "source": [
    "trans = stringIndexer.fit(spark_df)"
   ]
  },
  {
   "cell_type": "code",
   "execution_count": null,
   "id": "277806b8-1957-42e7-8f7c-171eb431cb60",
   "metadata": {
    "tags": []
   },
   "outputs": [],
   "source": [
    "indexed = trans.transform(spark_df)"
   ]
  },
  {
   "cell_type": "code",
   "execution_count": null,
   "id": "a565ce4c-0e78-4add-8b48-da31beed942f",
   "metadata": {
    "tags": []
   },
   "outputs": [],
   "source": [
    "spark_df = indexed.withColumn(\"label\", indexed[\"label\"].cast(\"integer\"))"
   ]
  },
  {
   "cell_type": "code",
   "execution_count": null,
   "id": "47f2a00f-4a69-4a99-b792-ef470396cb55",
   "metadata": {
    "tags": []
   },
   "outputs": [],
   "source": [
    "spark_df.show(5)"
   ]
  },
  {
   "cell_type": "code",
   "execution_count": null,
   "id": "c6b4a81e-c347-4c67-be09-40b6a3425a00",
   "metadata": {
    "tags": []
   },
   "outputs": [],
   "source": [
    "# Define independent variables\n",
    "from pyspark.ml.feature import VectorAssembler"
   ]
  },
  {
   "cell_type": "code",
   "execution_count": null,
   "id": "61743f1b-ec53-445e-8205-67779fdf9e9f",
   "metadata": {
    "tags": []
   },
   "outputs": [],
   "source": [
    "spark_df.columns"
   ]
  },
  {
   "cell_type": "code",
   "execution_count": null,
   "id": "8290db8c-96a6-41d4-9d59-efb9d57f7e5b",
   "metadata": {
    "tags": []
   },
   "outputs": [],
   "source": [
    "independent_variables = [\"age\",\"total_purchase\",\"account_manager\",\"years\",\"num_sites\"]"
   ]
  },
  {
   "cell_type": "code",
   "execution_count": null,
   "id": "5acf93ef-56e1-4f98-b79b-b93b74a55085",
   "metadata": {
    "tags": []
   },
   "outputs": [],
   "source": [
    "vectorAssembler = VectorAssembler(inputCols=independent_variables, outputCol=\"features\")"
   ]
  },
  {
   "cell_type": "code",
   "execution_count": null,
   "id": "56f9f406-2f84-40b2-ae8e-bd3f136d6428",
   "metadata": {
    "tags": []
   },
   "outputs": [],
   "source": [
    "va_df = vectorAssembler.transform(spark_df)"
   ]
  },
  {
   "cell_type": "code",
   "execution_count": null,
   "id": "48bc6de0-c209-4d10-a41c-552f63672f89",
   "metadata": {
    "tags": []
   },
   "outputs": [],
   "source": [
    "va_df.show(5)"
   ]
  },
  {
   "cell_type": "code",
   "execution_count": null,
   "id": "360c6e2e-3dbf-4886-95dc-3f9e5a53935e",
   "metadata": {
    "tags": []
   },
   "outputs": [],
   "source": [
    "final_df = va_df.select([\"features\",\"label\"])"
   ]
  },
  {
   "cell_type": "code",
   "execution_count": null,
   "id": "ecf3ce57-3e86-492a-b71e-c3e8e61f7ebf",
   "metadata": {
    "tags": []
   },
   "outputs": [],
   "source": [
    "final_df.show()"
   ]
  },
  {
   "cell_type": "code",
   "execution_count": null,
   "id": "19499170-087d-475d-9029-2f0a6bc6ee82",
   "metadata": {
    "tags": []
   },
   "outputs": [],
   "source": [
    "# Split Train and Test Dfs\n",
    "splits = final_df.randomSplit([0.80,0.20])"
   ]
  },
  {
   "cell_type": "code",
   "execution_count": null,
   "id": "12d116d7-547d-49b4-a543-335687746167",
   "metadata": {
    "tags": []
   },
   "outputs": [],
   "source": [
    "train_df = splits[0]\n",
    "test_df = splits[1]"
   ]
  },
  {
   "cell_type": "code",
   "execution_count": null,
   "id": "0e5d261a-b6a2-459e-a3c6-0958be0c6aab",
   "metadata": {
    "tags": []
   },
   "outputs": [],
   "source": [
    "train_df.show(5)"
   ]
  },
  {
   "cell_type": "code",
   "execution_count": null,
   "id": "619f1dd4-c54b-478b-8a5b-dd49cd1aecfc",
   "metadata": {
    "tags": []
   },
   "outputs": [],
   "source": [
    "test_df.show(5)"
   ]
  },
  {
   "cell_type": "code",
   "execution_count": null,
   "id": "04cd1595-f541-4dab-8eb9-2e9c06c45043",
   "metadata": {
    "tags": []
   },
   "outputs": [],
   "source": [
    "# Modelling\n",
    "from pyspark.ml.classification import GBTClassifier"
   ]
  },
  {
   "cell_type": "code",
   "execution_count": null,
   "id": "90a56b2e-e8d2-495a-b3a4-1acb318defcb",
   "metadata": {
    "tags": []
   },
   "outputs": [],
   "source": [
    "gbm = GBTClassifier(maxIter=10, featuresCol=\"features\", labelCol=\"label\")"
   ]
  },
  {
   "cell_type": "code",
   "execution_count": null,
   "id": "77973867-83dc-486f-b76d-ff32370f5553",
   "metadata": {
    "tags": []
   },
   "outputs": [],
   "source": [
    "gbm_model = gbm.fit(train_df)"
   ]
  },
  {
   "cell_type": "code",
   "execution_count": null,
   "id": "494a99cb-1992-4af0-bba5-2106015ce40d",
   "metadata": {
    "tags": []
   },
   "outputs": [],
   "source": [
    "y_pred = gbm_model.transform(test_df)"
   ]
  },
  {
   "cell_type": "code",
   "execution_count": null,
   "id": "fcd4ba39-d3f6-4262-b54d-87d149cb24de",
   "metadata": {
    "tags": []
   },
   "outputs": [],
   "source": [
    "y_pred"
   ]
  },
  {
   "cell_type": "code",
   "execution_count": null,
   "id": "d88f5d3f-1f6a-46ab-9032-2f91c9690ae6",
   "metadata": {
    "tags": []
   },
   "outputs": [],
   "source": [
    "accuracy = y_pred.select(\"label\",\"prediction\")"
   ]
  },
  {
   "cell_type": "code",
   "execution_count": null,
   "id": "a3019b8b-d09b-4b60-9056-2fbf4f52cde9",
   "metadata": {
    "tags": []
   },
   "outputs": [],
   "source": [
    "accuracy.filter(accuracy.label == accuracy.prediction).count()/accuracy.count()"
   ]
  },
  {
   "cell_type": "code",
   "execution_count": null,
   "id": "49826656-2334-4b3e-8c00-eaacca1cfa11",
   "metadata": {
    "tags": []
   },
   "outputs": [],
   "source": [
    "# Model Tunning"
   ]
  },
  {
   "cell_type": "code",
   "execution_count": null,
   "id": "a6a19365-c007-4aa1-823a-2f4eb2851632",
   "metadata": {
    "tags": []
   },
   "outputs": [],
   "source": [
    "from pyspark.ml.evaluation import BinaryClassificationEvaluator\n",
    "from pyspark.ml.tuning import ParamGridBuilder, CrossValidator"
   ]
  },
  {
   "cell_type": "code",
   "execution_count": null,
   "id": "a949f8ef-e265-456b-93f2-c63a2d6d51de",
   "metadata": {
    "tags": []
   },
   "outputs": [],
   "source": [
    "evaluator = BinaryClassificationEvaluator()"
   ]
  },
  {
   "cell_type": "code",
   "execution_count": null,
   "id": "87775062-eeec-4451-a116-6d250f7a5cc2",
   "metadata": {
    "tags": []
   },
   "outputs": [],
   "source": [
    "paramGrid = (ParamGridBuilder().addGrid(gbm.maxDepth, [2,4,6]).addGrid(gbm.maxBins,[20,30]).addGrid(gbm.maxIter, [10,20]).build())"
   ]
  },
  {
   "cell_type": "code",
   "execution_count": null,
   "id": "b835f7a3-edee-4706-abd2-0bd31871e8de",
   "metadata": {
    "tags": []
   },
   "outputs": [],
   "source": [
    "cv = CrossValidator(estimator=gbm, estimatorParamMaps=paramGrid, evaluator=evaluator, numFolds=10)"
   ]
  },
  {
   "cell_type": "code",
   "execution_count": null,
   "id": "53123643-d157-4ffa-a9cc-63c02378e4d5",
   "metadata": {
    "tags": []
   },
   "outputs": [],
   "source": [
    "cv_model = cv.fit(train_df)"
   ]
  },
  {
   "cell_type": "code",
   "execution_count": null,
   "id": "890cd78d-50c7-4dcb-a17b-4e2d066af403",
   "metadata": {
    "tags": []
   },
   "outputs": [],
   "source": [
    "y_pred = cv_model.transform(test_df)"
   ]
  },
  {
   "cell_type": "code",
   "execution_count": null,
   "id": "be9a0ac9-cd20-408a-b011-e4365aaf2577",
   "metadata": {
    "tags": []
   },
   "outputs": [],
   "source": [
    "accuracy = y_pred.select(\"label\",\"prediction\")"
   ]
  },
  {
   "cell_type": "code",
   "execution_count": null,
   "id": "28341a4b-ef75-4021-9354-61c343f048b3",
   "metadata": {
    "tags": []
   },
   "outputs": [],
   "source": [
    "accuracy.filter(accuracy.label == accuracy.prediction).count()/accuracy.count()"
   ]
  },
  {
   "cell_type": "code",
   "execution_count": null,
   "id": "40d10344-22cc-47fc-8c97-5146e74951bc",
   "metadata": {
    "tags": []
   },
   "outputs": [],
   "source": [
    "# Customer Leave Problem"
   ]
  },
  {
   "cell_type": "code",
   "execution_count": null,
   "id": "11e79a20-a42e-4625-9157-30ff2887e843",
   "metadata": {
    "tags": []
   },
   "outputs": [],
   "source": [
    "import pandas as pd\n",
    "\n",
    "names = pd.Series(['Bob Smith', 'Sally Jones', 'Mike Thompson', 'Kim Johnson', 'Bob Smith'])\n",
    "ages = pd.Series([21, 34, 27, 24, 34])\n",
    "total_purchase = pd.Series([251.00, 325.00, 421.00, 521.00, 825.00])\n",
    "account_manager = pd.Series([1, 0, 1, 1, 0])\n",
    "years = pd.Series([3, 14, 11, 9, 4])\n",
    "num_sites = pd.Series([8, 14, 11, 9, 4])\n",
    "\n",
    "new_customers = pd.DataFrame({'names': names, 'age': ages, 'total_purchase': total_purchase, 'account_manager': account_manager, 'years': years, 'num_sites': num_sites})"
   ]
  },
  {
   "cell_type": "code",
   "execution_count": null,
   "id": "edf23c20-223d-473d-885c-a6239b2769c1",
   "metadata": {
    "tags": []
   },
   "outputs": [],
   "source": [
    "new_customers.columns"
   ]
  },
  {
   "cell_type": "code",
   "execution_count": null,
   "id": "7c30d201-d3d1-42bf-b9a1-a1da8232f300",
   "metadata": {
    "tags": []
   },
   "outputs": [],
   "source": [
    "# Transform to spark\n",
    "new_customers_spark_df = spark.createDataFrame(new_customers)"
   ]
  },
  {
   "cell_type": "code",
   "execution_count": null,
   "id": "8e40258b-ff1d-4cb6-96ad-f0f94905d9dc",
   "metadata": {
    "tags": []
   },
   "outputs": [],
   "source": [
    "new_customers_spark_df.show()"
   ]
  },
  {
   "cell_type": "code",
   "execution_count": null,
   "id": "44c3983d-5da5-4bc0-b0c9-810ed6316dee",
   "metadata": {
    "tags": []
   },
   "outputs": [],
   "source": [
    "new_customers = vectorAssembler.transform(new_customers_spark_df)"
   ]
  },
  {
   "cell_type": "code",
   "execution_count": null,
   "id": "68bb07fe-104b-4956-b4cf-96f1bb9e97c8",
   "metadata": {
    "tags": []
   },
   "outputs": [],
   "source": [
    "results = cv_model.transform(new_customers)"
   ]
  },
  {
   "cell_type": "code",
   "execution_count": null,
   "id": "65763a5a-3707-4105-a533-834361bf9464",
   "metadata": {
    "tags": []
   },
   "outputs": [],
   "source": [
    "results.select(\"names\",\"prediction\").show() # Predictions"
   ]
  }
 ],
 "metadata": {
  "kernelspec": {
   "display_name": "Python 3 (ipykernel)",
   "language": "python",
   "name": "python3"
  },
  "language_info": {
   "codemirror_mode": {
    "name": "ipython",
    "version": 3
   },
   "file_extension": ".py",
   "mimetype": "text/x-python",
   "name": "python",
   "nbconvert_exporter": "python",
   "pygments_lexer": "ipython3",
   "version": "3.11.5"
  }
 },
 "nbformat": 4,
 "nbformat_minor": 5
}
